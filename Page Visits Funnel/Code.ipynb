{
 "cells": [
  {
   "cell_type": "markdown",
   "metadata": {},
   "source": [
    "1. Inspect the DataFrames using print and head:\n",
    "\n",
    "    `visits` lists all of the users who have visited the website\n",
    "    `cart` lists all of the users who have added a t-shirt to their cart\n",
    "    `checkout` lists all of the users who have started the checkout\n",
    "    `purchase` lists all of the users who have purchased a t-shirt"
   ]
  },
  {
   "cell_type": "code",
   "execution_count": 1,
   "metadata": {},
   "outputs": [
    {
     "name": "stdout",
     "output_type": "stream",
     "text": [
      "                                user_id          visit_time\n",
      "0  943647ef-3682-4750-a2e1-918ba6f16188 2017-04-07 15:14:00\n",
      "1  0c3a3dd0-fb64-4eac-bf84-ba069ce409f2 2017-01-26 14:24:00\n",
      "2  6e0b2d60-4027-4d9a-babd-0e7d40859fb1 2017-08-20 08:23:00\n",
      "3  6879527e-c5a6-4d14-b2da-50b85212b0ab 2017-11-04 18:15:00\n",
      "4  a84327ff-5daa-4ba1-b789-d5b4caf81e96 2017-02-27 11:25:00\n",
      "                                user_id           cart_time\n",
      "0  2be90e7c-9cca-44e0-bcc5-124b945ff168 2017-11-07 20:45:00\n",
      "1  4397f73f-1da3-4ab3-91af-762792e25973 2017-05-27 01:35:00\n",
      "2  a9db3d4b-0a0a-4398-a55a-ebb2c7adf663 2017-03-04 10:38:00\n",
      "3  b594862a-36c5-47d5-b818-6e9512b939b3 2017-09-27 08:22:00\n",
      "4  a68a16e2-94f0-4ce8-8ce3-784af0bbb974 2017-07-26 15:48:00\n",
      "                                user_id       checkout_time\n",
      "0  d33bdc47-4afa-45bc-b4e4-dbe948e34c0d 2017-06-25 09:29:00\n",
      "1  4ac186f0-9954-4fea-8a27-c081e428e34e 2017-04-07 20:11:00\n",
      "2  3c9c78a7-124a-4b77-8d2e-e1926e011e7d 2017-07-13 11:38:00\n",
      "3  89fe330a-8966-4756-8f7c-3bdbcd47279a 2017-04-20 16:15:00\n",
      "4  3ccdaf69-2d30-40de-b083-51372881aedd 2017-01-08 20:52:00\n",
      "                                user_id       purchase_time\n",
      "0  4b44ace4-2721-47a0-b24b-15fbfa2abf85 2017-05-11 04:25:00\n",
      "1  02e684ae-a448-408f-a9ff-dcb4a5c99aac 2017-09-05 08:45:00\n",
      "2  4b4bc391-749e-4b90-ab8f-4f6e3c84d6dc 2017-11-20 20:49:00\n",
      "3  a5dbb25f-3c36-4103-9030-9f7c6241cd8d 2017-01-22 15:18:00\n",
      "4  46a3186d-7f5a-4ab9-87af-84d05bfd4867 2017-06-11 11:32:00\n"
     ]
    }
   ],
   "source": [
    "import pandas as pd\n",
    "\n",
    "visits = pd.read_csv('visits.csv',\n",
    "                     parse_dates=[1])\n",
    "print(visits.head())\n",
    "\n",
    "cart = pd.read_csv('cart.csv',\n",
    "                   parse_dates=[1])\n",
    "print(cart.head())\n",
    "\n",
    "checkout = pd.read_csv('checkout.csv',\n",
    "                       parse_dates=[1])\n",
    "print(checkout.head())\n",
    "\n",
    "purchase = pd.read_csv('purchase.csv',\n",
    "                       parse_dates=[1])\n",
    "print(purchase.head())"
   ]
  },
  {
   "cell_type": "markdown",
   "metadata": {},
   "source": [
    "2. Combine `visits` and `cart` using a left merge."
   ]
  },
  {
   "cell_type": "code",
   "execution_count": 2,
   "metadata": {},
   "outputs": [
    {
     "name": "stdout",
     "output_type": "stream",
     "text": [
      "                                   user_id          visit_time  \\\n",
      "0     943647ef-3682-4750-a2e1-918ba6f16188 2017-04-07 15:14:00   \n",
      "1     0c3a3dd0-fb64-4eac-bf84-ba069ce409f2 2017-01-26 14:24:00   \n",
      "2     6e0b2d60-4027-4d9a-babd-0e7d40859fb1 2017-08-20 08:23:00   \n",
      "3     6e0b2d60-4027-4d9a-babd-0e7d40859fb1 2017-08-20 08:23:00   \n",
      "4     6879527e-c5a6-4d14-b2da-50b85212b0ab 2017-11-04 18:15:00   \n",
      "...                                    ...                 ...   \n",
      "2047  33913ac2-03da-45ae-8fc3-fea39df827c6 2017-03-25 03:29:00   \n",
      "2048  4f850132-b99d-4623-80e6-6e61d003577e 2017-01-08 09:57:00   \n",
      "2049  f0830b9b-1f5c-4e74-b63d-3f847cc6ce70 2017-09-07 12:56:00   \n",
      "2050  b01bffa7-63ba-4cd3-9d93-eb1477c23831 2017-07-20 04:37:00   \n",
      "2051  0336ca81-8d68-443f-9248-ac0b8ad147d5 2017-11-15 10:11:00   \n",
      "\n",
      "               cart_time  \n",
      "0                    NaT  \n",
      "1    2017-01-26 14:44:00  \n",
      "2    2017-08-20 08:31:00  \n",
      "3    2017-08-20 08:49:00  \n",
      "4                    NaT  \n",
      "...                  ...  \n",
      "2047                 NaT  \n",
      "2048                 NaT  \n",
      "2049                 NaT  \n",
      "2050                 NaT  \n",
      "2051                 NaT  \n",
      "\n",
      "[2052 rows x 3 columns]\n"
     ]
    }
   ],
   "source": [
    "visits_cart = visits.merge(cart, how='left')\n",
    "print(visits_cart)"
   ]
  },
  {
   "cell_type": "markdown",
   "metadata": {},
   "source": [
    "3. How long is your merged DataFrame?"
   ]
  },
  {
   "cell_type": "code",
   "execution_count": 3,
   "metadata": {},
   "outputs": [
    {
     "name": "stdout",
     "output_type": "stream",
     "text": [
      "2052\n"
     ]
    }
   ],
   "source": [
    "print(len(visits_cart))"
   ]
  },
  {
   "cell_type": "markdown",
   "metadata": {},
   "source": [
    "4. How many of the timestamps are `null` for the column `cart_time`?\n",
    "\n",
    "What do these null rows mean?"
   ]
  },
  {
   "cell_type": "code",
   "execution_count": 4,
   "metadata": {},
   "outputs": [
    {
     "name": "stdout",
     "output_type": "stream",
     "text": [
      "                                   user_id          visit_time cart_time\n",
      "0     943647ef-3682-4750-a2e1-918ba6f16188 2017-04-07 15:14:00       NaT\n",
      "4     6879527e-c5a6-4d14-b2da-50b85212b0ab 2017-11-04 18:15:00       NaT\n",
      "5     a84327ff-5daa-4ba1-b789-d5b4caf81e96 2017-02-27 11:25:00       NaT\n",
      "6     7bc62113-d51d-4e6b-85e0-1cf29e3de74a 2017-06-03 20:05:00       NaT\n",
      "7     6f22cd44-bc63-4449-a9af-2651859da2f9 2017-03-18 23:09:00       NaT\n",
      "...                                    ...                 ...       ...\n",
      "2047  33913ac2-03da-45ae-8fc3-fea39df827c6 2017-03-25 03:29:00       NaT\n",
      "2048  4f850132-b99d-4623-80e6-6e61d003577e 2017-01-08 09:57:00       NaT\n",
      "2049  f0830b9b-1f5c-4e74-b63d-3f847cc6ce70 2017-09-07 12:56:00       NaT\n",
      "2050  b01bffa7-63ba-4cd3-9d93-eb1477c23831 2017-07-20 04:37:00       NaT\n",
      "2051  0336ca81-8d68-443f-9248-ac0b8ad147d5 2017-11-15 10:11:00       NaT\n",
      "\n",
      "[1652 rows x 3 columns]\n"
     ]
    }
   ],
   "source": [
    "cart_time_null = visits_cart[visits_cart['cart_time'].isnull()]\n",
    "print(cart_time_null)"
   ]
  },
  {
   "cell_type": "markdown",
   "metadata": {},
   "source": [
    "5. What percent of users who visited Cool T-Shirts Inc. ended up not placing a t-shirt in their cart?\n",
    "\n",
    "Note: To calculate percentages, it will be helpful to turn either the numerator or the denominator into a float, by using `float()`, with the number to convert passed in as input. Otherwise, Python will use integer division, which truncates decimal points."
   ]
  },
  {
   "cell_type": "code",
   "execution_count": 5,
   "metadata": {},
   "outputs": [
    {
     "name": "stdout",
     "output_type": "stream",
     "text": [
      "80.50682261208577\n"
     ]
    }
   ],
   "source": [
    "not_cart_percentage = float(len(cart_time_null)) / float(len(visits_cart)) * 100.0\n",
    "print(not_cart_percentage)"
   ]
  },
  {
   "cell_type": "markdown",
   "metadata": {},
   "source": [
    "6. Repeat the left merge for `cart` and `checkout` and count `null` values. What percentage of users put items in their cart, but did not proceed to checkout?"
   ]
  },
  {
   "cell_type": "code",
   "execution_count": 6,
   "metadata": {},
   "outputs": [
    {
     "name": "stdout",
     "output_type": "stream",
     "text": [
      "20.930232558139537\n"
     ]
    }
   ],
   "source": [
    "cart_checkout = cart.merge(checkout, how='left')\n",
    "checkout_null = cart_checkout[cart_checkout['checkout_time'].isnull()]\n",
    "not_checkout_percentage = float(len(checkout_null)) / float(len(cart_checkout)) * 100.0\n",
    "\n",
    "print(not_checkout_percentage)"
   ]
  },
  {
   "cell_type": "markdown",
   "metadata": {},
   "source": [
    "7. Merge all four steps of the funnel, in order, using a series of left merges. Save the results to the variable `all_data`.\n",
    "\n",
    "Examine the result using `print` and `head`."
   ]
  },
  {
   "cell_type": "code",
   "execution_count": 7,
   "metadata": {},
   "outputs": [
    {
     "name": "stdout",
     "output_type": "stream",
     "text": [
      "                                user_id          visit_time  \\\n",
      "0  943647ef-3682-4750-a2e1-918ba6f16188 2017-04-07 15:14:00   \n",
      "1  0c3a3dd0-fb64-4eac-bf84-ba069ce409f2 2017-01-26 14:24:00   \n",
      "2  6e0b2d60-4027-4d9a-babd-0e7d40859fb1 2017-08-20 08:23:00   \n",
      "3  6e0b2d60-4027-4d9a-babd-0e7d40859fb1 2017-08-20 08:23:00   \n",
      "4  6879527e-c5a6-4d14-b2da-50b85212b0ab 2017-11-04 18:15:00   \n",
      "\n",
      "            cart_time       checkout_time       purchase_time  \n",
      "0                 NaT                 NaT                 NaT  \n",
      "1 2017-01-26 14:44:00 2017-01-26 14:54:00 2017-01-26 15:08:00  \n",
      "2 2017-08-20 08:31:00                 NaT                 NaT  \n",
      "3 2017-08-20 08:49:00                 NaT                 NaT  \n",
      "4                 NaT                 NaT                 NaT  \n"
     ]
    }
   ],
   "source": [
    "all_data = visits.merge(cart, how='left').merge(checkout, how='left').merge(purchase, how='left')\n",
    "print(all_data.head())"
   ]
  },
  {
   "cell_type": "markdown",
   "metadata": {},
   "source": [
    "8. What percentage of users proceeded to checkout, but did not purchase a t-shirt?"
   ]
  },
  {
   "cell_type": "code",
   "execution_count": 8,
   "metadata": {},
   "outputs": [
    {
     "name": "stdout",
     "output_type": "stream",
     "text": [
      "16.88963210702341\n"
     ]
    }
   ],
   "source": [
    "checkout_purchase = pd.merge(checkout,purchase, how='left')\n",
    "purchase_null = checkout_purchase[checkout_purchase['purchase_time'].isnull()]\n",
    "not_purchase_percentage = float(len(purchase_null)) / float(len(checkout_purchase)) * 100.0\n",
    "\n",
    "print(not_purchase_percentage)"
   ]
  },
  {
   "cell_type": "markdown",
   "metadata": {},
   "source": [
    "9. Which step of the funnel is weakest (i.e., has the highest percentage of users not completing it)?\n",
    "\n",
    "How might Cool T-Shirts Inc. change their website to fix this problem?"
   ]
  },
  {
   "cell_type": "code",
   "execution_count": 9,
   "metadata": {},
   "outputs": [
    {
     "name": "stdout",
     "output_type": "stream",
     "text": [
      "80.50682261208577\n",
      "20.930232558139537\n",
      "16.88963210702341\n"
     ]
    }
   ],
   "source": [
    "print(not_cart_percentage)\n",
    "print(not_checkout_percentage)\n",
    "print(not_purchase_percentage)"
   ]
  },
  {
   "cell_type": "markdown",
   "metadata": {},
   "source": [
    "10. Using the giant merged DataFrame `all_data` that you created, let’s calculate the average time from initial visit to final purchase. Start by adding the following column to your DataFrame:\n",
    "\n",
    "`all_data['time_to_purchase'] = all_data.purchase_time - all_data.visit_time`"
   ]
  },
  {
   "cell_type": "code",
   "execution_count": 10,
   "metadata": {},
   "outputs": [],
   "source": [
    "all_data['time_to_purchase'] = all_data.purchase_time - all_data.visit_time"
   ]
  },
  {
   "cell_type": "markdown",
   "metadata": {},
   "source": [
    "11. Examine the results using:\n",
    "\n",
    "`print(all_data.time_to_purchase)`"
   ]
  },
  {
   "cell_type": "code",
   "execution_count": 11,
   "metadata": {},
   "outputs": [
    {
     "name": "stdout",
     "output_type": "stream",
     "text": [
      "0           NaT\n",
      "1      00:44:00\n",
      "2           NaT\n",
      "3           NaT\n",
      "4           NaT\n",
      "         ...   \n",
      "2589        NaT\n",
      "2590        NaT\n",
      "2591        NaT\n",
      "2592        NaT\n",
      "2593        NaT\n",
      "Name: time_to_purchase, Length: 2594, dtype: timedelta64[ns]\n"
     ]
    }
   ],
   "source": [
    "print(all_data.time_to_purchase)"
   ]
  },
  {
   "cell_type": "markdown",
   "metadata": {},
   "source": [
    "12. Calculate the average time to purchase using the following code:\n",
    "\n",
    "`print(all_data.time_to_purchase.mean())`"
   ]
  },
  {
   "cell_type": "code",
   "execution_count": 12,
   "metadata": {},
   "outputs": [
    {
     "name": "stdout",
     "output_type": "stream",
     "text": [
      "0 days 00:44:02.672413\n"
     ]
    }
   ],
   "source": [
    "print(all_data.time_to_purchase.mean())"
   ]
  }
 ],
 "metadata": {
  "kernelspec": {
   "display_name": "Python 3",
   "language": "python",
   "name": "python3"
  },
  "language_info": {
   "codemirror_mode": {
    "name": "ipython",
    "version": 3
   },
   "file_extension": ".py",
   "mimetype": "text/x-python",
   "name": "python",
   "nbconvert_exporter": "python",
   "pygments_lexer": "ipython3",
   "version": "3.7.6"
  }
 },
 "nbformat": 4,
 "nbformat_minor": 4
}
