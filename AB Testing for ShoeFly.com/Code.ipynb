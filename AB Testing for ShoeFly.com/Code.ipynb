{
 "cells": [
  {
   "cell_type": "markdown",
   "metadata": {},
   "source": [
    "1. Examine the first few rows of `ad_clicks`."
   ]
  },
  {
   "cell_type": "code",
   "execution_count": 1,
   "metadata": {},
   "outputs": [
    {
     "name": "stdout",
     "output_type": "stream",
     "text": [
      "                                user_id utm_source           day  \\\n",
      "0  008b7c6c-7272-471e-b90e-930d548bd8d7     google  6 - Saturday   \n",
      "1  009abb94-5e14-4b6c-bb1c-4f4df7aa7557   facebook    7 - Sunday   \n",
      "2  00f5d532-ed58-4570-b6d2-768df5f41aed    twitter   2 - Tuesday   \n",
      "3  011adc64-0f44-4fd9-a0bb-f1506d2ad439     google   2 - Tuesday   \n",
      "4  012137e6-7ae7-4649-af68-205b4702169c   facebook    7 - Sunday   \n",
      "\n",
      "  ad_click_timestamp experimental_group  \n",
      "0               7:18                  A  \n",
      "1                NaN                  B  \n",
      "2                NaN                  A  \n",
      "3                NaN                  B  \n",
      "4                NaN                  B  \n"
     ]
    }
   ],
   "source": [
    "import pandas as pd\n",
    "\n",
    "ad_clicks = pd.read_csv('ad_clicks.csv')\n",
    "print(ad_clicks.head())"
   ]
  },
  {
   "cell_type": "markdown",
   "metadata": {},
   "source": [
    "2. Your manager wants to know which ad platform is getting you the most views.\n",
    "\n",
    "How many views (i.e., rows of the table) came from each `utm_source`?"
   ]
  },
  {
   "cell_type": "code",
   "execution_count": 2,
   "metadata": {},
   "outputs": [
    {
     "name": "stdout",
     "output_type": "stream",
     "text": [
      "  utm_source  user_id\n",
      "0      email      255\n",
      "1   facebook      504\n",
      "2     google      680\n",
      "3    twitter      215\n"
     ]
    }
   ],
   "source": [
    "utm_source = ad_clicks.groupby('utm_source').user_id.count().reset_index()\n",
    "print(utm_source)"
   ]
  },
  {
   "cell_type": "markdown",
   "metadata": {},
   "source": [
    "3. If the column `ad_click_timestamp` is not null, then someone actually clicked on the ad that was displayed.\n",
    "\n",
    "Create a new column called `is_click`, which is True if `ad_click_timestamp` is not null and False otherwise."
   ]
  },
  {
   "cell_type": "code",
   "execution_count": 3,
   "metadata": {},
   "outputs": [
    {
     "name": "stdout",
     "output_type": "stream",
     "text": [
      "                                user_id utm_source            day  \\\n",
      "0  008b7c6c-7272-471e-b90e-930d548bd8d7     google   6 - Saturday   \n",
      "1  009abb94-5e14-4b6c-bb1c-4f4df7aa7557   facebook     7 - Sunday   \n",
      "2  00f5d532-ed58-4570-b6d2-768df5f41aed    twitter    2 - Tuesday   \n",
      "3  011adc64-0f44-4fd9-a0bb-f1506d2ad439     google    2 - Tuesday   \n",
      "4  012137e6-7ae7-4649-af68-205b4702169c   facebook     7 - Sunday   \n",
      "5  013b0072-7b72-40e7-b698-98b4d0c9967f   facebook     1 - Monday   \n",
      "6  0153d85b-7660-4c39-92eb-1e1acd023280     google   4 - Thursday   \n",
      "7  01555297-d6e6-49ae-aeba-1b196fdbb09f     google  3 - Wednesday   \n",
      "8  018cea61-19ea-4119-895b-1a4309ccb148      email     1 - Monday   \n",
      "9  01a210c3-fde0-4e6f-8efd-4f0e38730ae6      email    2 - Tuesday   \n",
      "\n",
      "  ad_click_timestamp experimental_group  is_click  \n",
      "0               7:18                  A      True  \n",
      "1                NaN                  B     False  \n",
      "2                NaN                  A     False  \n",
      "3                NaN                  B     False  \n",
      "4                NaN                  B     False  \n",
      "5                NaN                  A     False  \n",
      "6                NaN                  A     False  \n",
      "7                NaN                  A     False  \n",
      "8              18:33                  A      True  \n",
      "9              15:21                  B      True  \n"
     ]
    }
   ],
   "source": [
    "ad_clicks['is_click'] = ad_clicks['ad_click_timestamp'].notnull()\n",
    "print(ad_clicks.head(10))"
   ]
  },
  {
   "cell_type": "markdown",
   "metadata": {},
   "source": [
    "4. We want to know the percent of people who clicked on ads from each `utm_source`.\n",
    "\n",
    "Start by grouping by `utm_source` and `is_click` and counting the number of `user_id`‘s in each of those groups. Save your answer to the variable `clicks_by_source`."
   ]
  },
  {
   "cell_type": "code",
   "execution_count": 4,
   "metadata": {},
   "outputs": [],
   "source": [
    "clicks_by_source = ad_clicks.groupby(['utm_source', 'is_click']).user_id.count().reset_index()"
   ]
  },
  {
   "cell_type": "markdown",
   "metadata": {},
   "source": [
    "5. Now let’s pivot the data so that the columns are `is_click` (either `True` or `False`), the index is `utm_source`, and the values are `user_id`.\n",
    "\n",
    "Save your results to the variable `clicks_pivot`."
   ]
  },
  {
   "cell_type": "code",
   "execution_count": 5,
   "metadata": {},
   "outputs": [
    {
     "name": "stdout",
     "output_type": "stream",
     "text": [
      "is_click utm_source  False  True\n",
      "0             email    175    80\n",
      "1          facebook    324   180\n",
      "2            google    441   239\n",
      "3           twitter    149    66\n"
     ]
    }
   ],
   "source": [
    "clicks_pivot = clicks_by_source.pivot(\n",
    "  index='utm_source',\n",
    "  columns='is_click',\n",
    "  values='user_id'\n",
    ").reset_index()\n",
    "print(clicks_pivot)"
   ]
  },
  {
   "cell_type": "markdown",
   "metadata": {},
   "source": [
    "6. Create a new column in `clicks_pivot` called `percent_clicked` which is equal to the percent of users who clicked on the ad from each `utm_source`.\n",
    "\n",
    "Was there a difference in click rates for each source?"
   ]
  },
  {
   "cell_type": "code",
   "execution_count": 6,
   "metadata": {},
   "outputs": [
    {
     "name": "stdout",
     "output_type": "stream",
     "text": [
      "is_click utm_source  False  True  percent_clicked\n",
      "0             email    175    80        31.372549\n",
      "1          facebook    324   180        35.714286\n",
      "2            google    441   239        35.147059\n",
      "3           twitter    149    66        30.697674\n"
     ]
    }
   ],
   "source": [
    "clicks_pivot['percent_clicked'] = clicks_pivot[True] / (clicks_pivot[True] + clicks_pivot[False]) * 100.0\n",
    "\n",
    "print(clicks_pivot)"
   ]
  },
  {
   "cell_type": "markdown",
   "metadata": {},
   "source": [
    "## Analyzing an A/B Test\n",
    "\n",
    "7. The column `experimental_group` tells us whether the user was shown Ad A or Ad B.\n",
    "\n",
    "Were approximately the same number of people shown both adds?"
   ]
  },
  {
   "cell_type": "code",
   "execution_count": 7,
   "metadata": {},
   "outputs": [
    {
     "name": "stdout",
     "output_type": "stream",
     "text": [
      "  experimental_group  user_id\n",
      "0                  A      827\n",
      "1                  B      827\n"
     ]
    }
   ],
   "source": [
    "experimental_group = ad_clicks.groupby('experimental_group').user_id.count().reset_index()\n",
    "print(experimental_group)"
   ]
  },
  {
   "cell_type": "markdown",
   "metadata": {},
   "source": [
    "8. Using the column `is_click` that we defined earlier, check to see if a greater percentage of users clicked on Ad A or Ad B."
   ]
  },
  {
   "cell_type": "code",
   "execution_count": 8,
   "metadata": {},
   "outputs": [
    {
     "name": "stdout",
     "output_type": "stream",
     "text": [
      "is_click experimental_group  False  True\n",
      "0                         A    517   310\n",
      "1                         B    572   255\n"
     ]
    }
   ],
   "source": [
    "percentage_A_B = ad_clicks.groupby(['experimental_group', 'is_click']).user_id.count().reset_index().pivot(\n",
    "  index='experimental_group',\n",
    "  columns='is_click',\n",
    "  values='user_id'\n",
    ").reset_index()\n",
    "print(percentage_A_B)"
   ]
  },
  {
   "cell_type": "markdown",
   "metadata": {},
   "source": [
    "9. The Product Manager for the A/B test thinks that the clicks might have changed by day of the week.\n",
    "\n",
    "Start by creating two DataFrames: `a_clicks` and `b_clicks`, which contain only the results for A group and B group, respectively."
   ]
  },
  {
   "cell_type": "code",
   "execution_count": 9,
   "metadata": {},
   "outputs": [],
   "source": [
    "a_clicks = ad_clicks[ad_clicks['experimental_group'] == 'A']\n",
    "b_clicks = ad_clicks[ad_clicks['experimental_group'] == 'B']"
   ]
  },
  {
   "cell_type": "markdown",
   "metadata": {},
   "source": [
    "10. For each group (`a_clicks` and `b_clicks`), calculate the percent of users who clicked on the ad by `day`."
   ]
  },
  {
   "cell_type": "code",
   "execution_count": 10,
   "metadata": {},
   "outputs": [
    {
     "name": "stdout",
     "output_type": "stream",
     "text": [
      "is_click            day  False  True  percentage\n",
      "0            1 - Monday     70    43   38.053097\n",
      "1           2 - Tuesday     76    43   36.134454\n",
      "2         3 - Wednesday     86    38   30.645161\n",
      "3          4 - Thursday     69    47   40.517241\n",
      "4            5 - Friday     77    51   39.843750\n",
      "5          6 - Saturday     73    45   38.135593\n",
      "6            7 - Sunday     66    43   39.449541\n",
      "is_click            day  False  True  percentage\n",
      "0            1 - Monday     81    32   28.318584\n",
      "1           2 - Tuesday     74    45   37.815126\n",
      "2         3 - Wednesday     89    35   28.225806\n",
      "3          4 - Thursday     87    29   25.000000\n",
      "4            5 - Friday     90    38   29.687500\n",
      "5          6 - Saturday     76    42   35.593220\n",
      "6            7 - Sunday     75    34   31.192661\n"
     ]
    }
   ],
   "source": [
    "a_clicks_by_day = a_clicks.groupby(['day', 'is_click']).user_id.count().reset_index().pivot(\n",
    "  index='day',\n",
    "  columns='is_click',\n",
    "  values='user_id'\n",
    ").reset_index()\n",
    "\n",
    "b_clicks_by_day = b_clicks.groupby(['day', 'is_click']).user_id.count().reset_index().pivot(\n",
    "  index='day',\n",
    "  columns='is_click',\n",
    "  values='user_id'\n",
    ").reset_index()\n",
    "\n",
    "a_clicks_by_day['percentage'] = a_clicks_by_day[True] / (a_clicks_by_day[True] + a_clicks_by_day[False]) * 100.0\n",
    "\n",
    "b_clicks_by_day['percentage'] = b_clicks_by_day[True] / (b_clicks_by_day[True] + b_clicks_by_day[False]) * 100.0\n",
    "\n",
    "print(a_clicks_by_day)\n",
    "print(b_clicks_by_day)\n"
   ]
  },
  {
   "cell_type": "markdown",
   "metadata": {},
   "source": [
    "11. Compare the results for `A` and `B`. What happened over the course of the week?\n",
    "\n",
    "Do you recommend that your company use Ad A or Ad B?"
   ]
  },
  {
   "cell_type": "code",
   "execution_count": 11,
   "metadata": {},
   "outputs": [
    {
     "name": "stdout",
     "output_type": "stream",
     "text": [
      "Based on last week's data analysis, Ad A has more clicks than Ad B. Therefore, I recommend that our company should use Ad A.\n"
     ]
    }
   ],
   "source": [
    "print(\"Based on last week's data analysis, Ad A has more clicks than Ad B. Therefore, I recommend that our company should use Ad A.\")"
   ]
  }
 ],
 "metadata": {
  "kernelspec": {
   "display_name": "Python 3",
   "language": "python",
   "name": "python3"
  },
  "language_info": {
   "codemirror_mode": {
    "name": "ipython",
    "version": 3
   },
   "file_extension": ".py",
   "mimetype": "text/x-python",
   "name": "python",
   "nbconvert_exporter": "python",
   "pygments_lexer": "ipython3",
   "version": "3.7.6"
  }
 },
 "nbformat": 4,
 "nbformat_minor": 4
}
